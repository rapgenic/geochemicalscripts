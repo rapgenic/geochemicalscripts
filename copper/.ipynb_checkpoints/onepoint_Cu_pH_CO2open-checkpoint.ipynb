{
 "cells": [
  {
   "cell_type": "markdown",
   "id": "e2093cde-2431-4c0d-95d9-2f74e1c6b473",
   "metadata": {
    "tags": []
   },
   "source": [
    "# one point Cu speciation\n",
    "\n",
    "just includes the reaction Cu+OH=CuOH and CuOH2s and CuOs (CuOs probably doesn't form in typical rxn conditions. too slow.  so could disable that one).  This also includes carbonate species ... where CT is determined by the partial pressure of CO2(g) - using an open tableau.\n",
    "\n",
    "specify pH, total copper and PCO2.  (later add in ionic strength)\n",
    "\n",
    "also have the switches that can be changed in the solver.\n",
    "\n",
    "equilib defined in CuOHCO2opentableau.m"
   ]
  },
  {
   "cell_type": "code",
   "execution_count": 55,
   "id": "9f7473e0-62d5-4be8-8974-65d405be6d53",
   "metadata": {},
   "outputs": [],
   "source": [
    "% setup environment\n",
    "% set path to equilibrium solver\n",
    "txt=pwd;\n",
    "n=length(txt);\n",
    "rootpath=txt(1:n-6);\n",
    "JEQUILIBpath=[rootpath,'JEQUILIB'];\n",
    "addpath(JEQUILIBpath);\n",
    "% clear data and number format\n",
    "clear; format short e\n",
    "\n",
    "% turn off warnings\n",
    "warning off"
   ]
  },
  {
   "cell_type": "code",
   "execution_count": 56,
   "id": "25c568d8-4945-440d-89a1-a85b32c1fbd2",
   "metadata": {},
   "outputs": [],
   "source": [
    "% input the constants and solution chemistry\n",
    "\n",
    "flag1=2; %flag1 for concentration based search vector (1) or for log based search vector (2).\n",
    "flag2=1; %flag2 for numerical derivatives (2) or analtyical derivatives (1)\n",
    "database=[]; \n",
    "flag3=0; % flag3 1 for show warnings. 0 no warnings\n",
    "flag4=0; %if=1 solve tableau one line at a time to get a good initial guess (no solids). really challenging probs only\n",
    "flag5=0; %if=1 use stored initial guess for including solids\n",
    "\n",
    "CuT=[10e-6]; pH=[7]; pe=20.75-pH; PCO2=10^-3.5;"
   ]
  },
  {
   "cell_type": "code",
   "execution_count": 57,
   "id": "73891590-5b8d-4188-b784-0b3df3a3eb32",
   "metadata": {
    "tags": []
   },
   "outputs": [
    {
     "data": {
      "text/plain": [
       "Cu = 5.7622e-07\n"
      ]
     },
     "metadata": {},
     "output_type": "display_data"
    },
    {
     "data": {
      "text/plain": [
       "CuOH = 1.7387e-07\n"
      ]
     },
     "metadata": {},
     "output_type": "display_data"
    },
    {
     "data": {
      "text/plain": [
       "CuOH2s =          0\n"
      ]
     },
     "metadata": {},
     "output_type": "display_data"
    },
    {
     "data": {
      "text/plain": [
       "CuOs =          0\n"
      ]
     },
     "metadata": {},
     "output_type": "display_data"
    },
    {
     "data": {
      "text/plain": [
       "CuCO3s =          0\n"
      ]
     },
     "metadata": {},
     "output_type": "display_data"
    },
    {
     "data": {
      "text/plain": [
       "tenorite = 9.2069e-06\n"
      ]
     },
     "metadata": {},
     "output_type": "display_data"
    },
    {
     "data": {
      "text/plain": [
       "malachite =          0\n"
      ]
     },
     "metadata": {},
     "output_type": "display_data"
    },
    {
     "data": {
      "text/plain": [
       "MASSERR =          0\n"
      ]
     },
     "metadata": {},
     "output_type": "display_data"
    }
   ],
   "source": [
    "% run the model\n",
    "\n",
    "% make sure totals are in the same order as the Tableau!\n",
    "inorganicTOTALS=[CuT];\n",
    "inorganicTOTALS(inorganicTOTALS==0)=1e-16; % get rid of zero values, b/c div by zero error\n",
    "TOTALS=[inorganicTOTALS]; %TOTALS=inorganicTOTALS;\n",
    "\n",
    "[Cu,CuOH,CuOH2s,CuOs,CuCO3s,tenorite,malachite,MASSERR]=CuOHCO2opentableau(pH,pe,PCO2,TOTALS',flag1,flag2,flag3,flag4,flag5,database)"
   ]
  }
 ],
 "metadata": {
  "kernelspec": {
   "display_name": "Octave (xoctave)",
   "language": "Octave",
   "name": "xoctave"
  },
  "language_info": {
   "codemirror_mode": "octave",
   "file_extension": ".m",
   "mimetype": "text/x-octave",
   "name": "Octave",
   "nbconvert_exporter": "",
   "pygments_lexer": "octave",
   "version": "7.3.0"
  }
 },
 "nbformat": 4,
 "nbformat_minor": 5
}

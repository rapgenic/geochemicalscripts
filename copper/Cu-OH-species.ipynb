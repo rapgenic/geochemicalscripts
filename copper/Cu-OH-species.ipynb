{
 "cells": [
  {
   "cell_type": "markdown",
   "id": "d2518006-8680-41cc-a904-e9a314dc3f09",
   "metadata": {},
   "source": [
    "# Copper hydroxide reactions from NIST database\n",
    "\n",
    "for each reaction generate an interpolation plot to determine the \"measured\" value at the specified ionic strength.  For now just write down the values, and use them to make the tableau for solving the speciation problem.  Eventually I can write this to automate the process."
   ]
  },
  {
   "cell_type": "code",
   "execution_count": 13,
   "id": "a7969069-7281-4f21-9dad-eb9c8480c9c7",
   "metadata": {},
   "outputs": [
    {
     "name": "stdout",
     "output_type": "stream",
     "text": [
      "\n",
      "Octave's search path contains the following directories:\n",
      "\n",
      ".\n",
      "/run/media/ssmith/T7/ssmith/scottsmith/research/geochemicalscripts/JEQUILIB\n",
      "/home/ssmith/miniconda3/envs/XOctave/share/xeus-octave\n",
      "/home/ssmith/miniconda3/envs/XOctave/share/octave/site/m\n",
      "/home/ssmith/miniconda3/envs/XOctave/share/octave/site/m/startup\n",
      "/home/ssmith/miniconda3/envs/XOctave/lib/octave/7.3.0/oct/x86_64-conda-linux-gnu\n",
      "/home/ssmith/miniconda3/envs/XOctave/share/octave/7.3.0/m\n",
      "/home/ssmith/miniconda3/envs/XOctave/share/octave/7.3.0/m/audio\n",
      "/home/ssmith/miniconda3/envs/XOctave/share/octave/7.3.0/m/deprecated\n",
      "/home/ssmith/miniconda3/envs/XOctave/share/octave/7.3.0/m/elfun\n",
      "/home/ssmith/miniconda3/envs/XOctave/share/octave/7.3.0/m/general\n",
      "/home/ssmith/miniconda3/envs/XOctave/share/octave/7.3.0/m/geometry\n",
      "/home/ssmith/miniconda3/envs/XOctave/share/octave/7.3.0/m/gui\n",
      "/home/ssmith/miniconda3/envs/XOctave/share/octave/7.3.0/m/help\n",
      "/home/ssmith/miniconda3/envs/XOctave/share/octave/7.3.0/m/image\n",
      "/home/ssmith/miniconda3/envs/XOctave/share/octave/7.3.0/m/io\n",
      "/home/ssmith/miniconda3/envs/XOctave/share/octave/7.3.0/m/java\n",
      "/home/ssmith/miniconda3/envs/XOctave/share/octave/7.3.0/m/legacy\n",
      "/home/ssmith/miniconda3/envs/XOctave/share/octave/7.3.0/m/linear-algebra\n",
      "/home/ssmith/miniconda3/envs/XOctave/share/octave/7.3.0/m/miscellaneous\n",
      "/home/ssmith/miniconda3/envs/XOctave/share/octave/7.3.0/m/ode\n",
      "/home/ssmith/miniconda3/envs/XOctave/share/octave/7.3.0/m/optimization\n",
      "/home/ssmith/miniconda3/envs/XOctave/share/octave/7.3.0/m/path\n",
      "/home/ssmith/miniconda3/envs/XOctave/share/octave/7.3.0/m/pkg\n",
      "/home/ssmith/miniconda3/envs/XOctave/share/octave/7.3.0/m/plot\n",
      "/home/ssmith/miniconda3/envs/XOctave/share/octave/7.3.0/m/plot/appearance\n",
      "/home/ssmith/miniconda3/envs/XOctave/share/octave/7.3.0/m/plot/draw\n",
      "/home/ssmith/miniconda3/envs/XOctave/share/octave/7.3.0/m/plot/util\n",
      "/home/ssmith/miniconda3/envs/XOctave/share/octave/7.3.0/m/polynomial\n",
      "/home/ssmith/miniconda3/envs/XOctave/share/octave/7.3.0/m/prefs\n",
      "/home/ssmith/miniconda3/envs/XOctave/share/octave/7.3.0/m/profiler\n",
      "/home/ssmith/miniconda3/envs/XOctave/share/octave/7.3.0/m/set\n",
      "/home/ssmith/miniconda3/envs/XOctave/share/octave/7.3.0/m/signal\n",
      "/home/ssmith/miniconda3/envs/XOctave/share/octave/7.3.0/m/sparse\n",
      "/home/ssmith/miniconda3/envs/XOctave/share/octave/7.3.0/m/specfun\n",
      "/home/ssmith/miniconda3/envs/XOctave/share/octave/7.3.0/m/special-matrix\n",
      "/home/ssmith/miniconda3/envs/XOctave/share/octave/7.3.0/m/startup\n",
      "/home/ssmith/miniconda3/envs/XOctave/share/octave/7.3.0/m/statistics\n",
      "/home/ssmith/miniconda3/envs/XOctave/share/octave/7.3.0/m/strings\n",
      "/home/ssmith/miniconda3/envs/XOctave/share/octave/7.3.0/m/testfun\n",
      "/home/ssmith/miniconda3/envs/XOctave/share/octave/7.3.0/m/time\n",
      "/home/ssmith/miniconda3/envs/XOctave/share/octave/7.3.0/m/web\n",
      "/home/ssmith/miniconda3/envs/XOctave/share/octave/7.3.0/data\n",
      "\n"
     ]
    }
   ],
   "source": [
    "%ISvalue = input(\"ionic strength: \")\n",
    "ISvalue=0.01;\n",
    "\n",
    "txt=pwd;\n",
    "n=length(txt);\n",
    "rootpath=txt(1:n-6);\n",
    "JEQUILIBpath=[rootpath,'JEQUILIB'];\n",
    "addpath(JEQUILIBpath)\n",
    "path"
   ]
  },
  {
   "cell_type": "markdown",
   "id": "0923b5ea-920b-48ea-92bc-f64a8ddbba69",
   "metadata": {},
   "source": [
    "# CuOH formation\n",
    "\n",
    "$$ Cu^{2+} + OH^- \\leftrightharpoons CuOH^+ $$\n"
   ]
  },
  {
   "cell_type": "code",
   "execution_count": 14,
   "id": "03a6a9fc-d3bf-4493-bc9f-d3496b14aecc",
   "metadata": {
    "tags": [
     "hide-input"
    ]
   },
   "outputs": [
    {
     "data": {
      "image/png": "[encoded data removed]"
     },
     "metadata": {
      "image/png": {
       "height": 420,
       "width": 560
      }
     },
     "output_type": "display_data"
    },
    {
     "data": {
      "text/plain": [
       "logKvalue = 6.4499\n"
      ]
     },
     "metadata": {},
     "output_type": "display_data"
    }
   ],
   "source": [
    "OH1=[...\n",
    "0 6.5\n",
    "0.1 6.1\n",
    "0.5 6.1\n",
    "0.7 6.2\n",
    "1.0 6.3\n",
    "2.0 6.6\n",
    "3.0 (6.3+6.8)/2\n",
    "3.00001 6.3\n",
    "3.00002 6.8\n",
    "];\n",
    "\n",
    "IS=OH1(:,1); logK=OH1(:,2);\n",
    "\n",
    "plot(IS,logK,'ko','markersize',10,'markerfacecolor','b')\n",
    "set(gca,'linewidth',2,'fontsize',12)\n",
    "xlabel('Ionic Stength (mol/L)'); ylabel('logK')\n",
    "\n",
    "ISi=[0:0.1:max(IS)+0.1*max(IS)];\n",
    "logKi=interp1(IS,logK,ISi,'pchip');\n",
    "\n",
    "hold on\n",
    "plot(ISi,logKi,'k--','linewidth',2)\n",
    "\n",
    "%output value\n",
    "logKvalue=interp1(IS,logK,ISvalue,'pchip')\n",
    "\n",
    "plot(ISvalue,logKvalue,'r*','markersize',10)"
   ]
  },
  {
   "cell_type": "code",
   "execution_count": null,
   "id": "fdad1c52-66bb-4366-8711-c2b1e733ce1b",
   "metadata": {},
   "outputs": [],
   "source": []
  }
 ],
 "metadata": {
  "kernelspec": {
   "display_name": "Octave (xoctave)",
   "language": "Octave",
   "name": "xoctave"
  },
  "language_info": {
   "codemirror_mode": "octave",
   "file_extension": ".m",
   "mimetype": "text/x-octave",
   "name": "Octave",
   "nbconvert_exporter": "",
   "pygments_lexer": "octave",
   "version": "7.3.0"
  }
 },
 "nbformat": 4,
 "nbformat_minor": 5
}

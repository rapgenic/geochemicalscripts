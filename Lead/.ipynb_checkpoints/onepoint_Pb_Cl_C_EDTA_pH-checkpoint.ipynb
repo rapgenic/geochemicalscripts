{
 "cells": [
  {
   "cell_type": "markdown",
   "id": "e2093cde-2431-4c0d-95d9-2f74e1c6b473",
   "metadata": {
    "tags": []
   },
   "source": [
    "# one point Pb speciation"
   ]
  },
  {
   "cell_type": "code",
   "execution_count": 19,
   "id": "9f7473e0-62d5-4be8-8974-65d405be6d53",
   "metadata": {},
   "outputs": [],
   "source": [
    "% setup environment\n",
    "% set path to equilibrium solver\n",
    "txt=pwd;\n",
    "n=length(txt);\n",
    "rootpath=txt(1:n-4);\n",
    "JEQUILIBpath=[rootpath,'JEQUILIB'];\n",
    "addpath(JEQUILIBpath);\n",
    "% clear data and number format\n",
    "clear; format short e\n",
    "% load table functions from github\n",
    "%pkg install https://github.com/apjanke/octave-tablicious/releases/download/v0.3.7/tablicious-0.3.7.tar.gz\n",
    "%pkg load tablicious\n",
    "%pkg list\n",
    "% turn off warnings\n",
    "warning off"
   ]
  },
  {
   "cell_type": "code",
   "execution_count": 20,
   "id": "25c568d8-4945-440d-89a1-a85b32c1fbd2",
   "metadata": {},
   "outputs": [],
   "source": [
    "% input the constants and solution chemistry\n",
    "\n",
    "flag1=2; %flag1 for concentration based search vector (1) or for log based search vector (2).\n",
    "flag2=1; %flag2 for numerical derivatives (2) or analtyical derivatives (1)\n",
    "database=[]; \n",
    "flag3=0; % flag3 1 for show warnings. 0 no warnings\n",
    "flag4=1; %if=1 solve tableau one line at a time to get a good initial guess (no solids). really challenging probs only\n",
    "flag5=0; %if=1 use stored initial guess for including solids\n",
    "\n",
    "PbT=[1e-6]; ClT=[0.025]; CT=[0.1]; AcT=[0.1]; YT=[1e-7]; pH=[6.5]; pe=20.75-pH; "
   ]
  },
  {
   "cell_type": "code",
   "execution_count": 21,
   "id": "73891590-5b8d-4188-b784-0b3df3a3eb32",
   "metadata": {
    "tags": []
   },
   "outputs": [
    {
     "data": {
      "text/plain": [
       "Pb = 6.0839e-09\n"
      ]
     },
     "metadata": {},
     "output_type": "display_data"
    },
    {
     "data": {
      "text/plain": [
       "PbOH = 4.8270e-10\n"
      ]
     },
     "metadata": {},
     "output_type": "display_data"
    },
    {
     "data": {
      "text/plain": [
       "PbCl = 5.4541e-09\n"
      ]
     },
     "metadata": {},
     "output_type": "display_data"
    },
    {
     "data": {
      "text/plain": [
       "Pbsolids =          0\n"
      ]
     },
     "metadata": {},
     "output_type": "display_data"
    },
    {
     "data": {
      "text/plain": [
       "MASSERR = 8.3267e-17\n"
      ]
     },
     "metadata": {},
     "output_type": "display_data"
    }
   ],
   "source": [
    "% run the model\n",
    "\n",
    "% make sure totals are in the same order as the Tableau!\n",
    "inorganicTOTALS=[PbT ClT CT AcT YT];\n",
    "inorganicTOTALS(inorganicTOTALS==0)=1e-16; % get rid of zero values, b/c div by zero error\n",
    "TOTALS=[inorganicTOTALS]; %TOTALS=inorganicTOTALS;\n",
    "\n",
    "%table2cell\n",
    "%path\n",
    "%ls /home/ssmith/.local/share/octave/api-v57/packages/tablicious-0.3.7/tablicious\n",
    "%table\n",
    "[Pb,PbOH,PbCl,Pbsolids,MASSERR]=Pbtableau001(pH,pe,TOTALS',flag1,flag2,flag3,flag4,flag5,database)"
   ]
  }
 ],
 "metadata": {
  "kernelspec": {
   "display_name": "Octave (xoctave)",
   "language": "Octave",
   "name": "xoctave"
  },
  "language_info": {
   "codemirror_mode": "octave",
   "file_extension": ".m",
   "mimetype": "text/x-octave",
   "name": "Octave",
   "nbconvert_exporter": "",
   "pygments_lexer": "octave",
   "version": "7.3.0"
  }
 },
 "nbformat": 4,
 "nbformat_minor": 5
}

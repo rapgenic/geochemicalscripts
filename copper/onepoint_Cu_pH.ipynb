{
 "cells": [
  {
   "cell_type": "markdown",
   "id": "e2093cde-2431-4c0d-95d9-2f74e1c6b473",
   "metadata": {
    "tags": []
   },
   "source": [
    "# one point Cu speciation\n",
    "\n",
    "just includes the reaction Cu+OH=CuOH and CuOH2s and CuOs (CuOs probably doesn't form in typical rxn conditions. too slow.  so could disable that one).\n",
    "\n",
    "specify pH, total copper and ionic strength.\n",
    "\n",
    "also have the switches that can be changed in the solver.\n",
    "\n",
    "equilib defined in CuOHtableau.m"
   ]
  },
  {
   "cell_type": "code",
   "execution_count": 66,
   "id": "9f7473e0-62d5-4be8-8974-65d405be6d53",
   "metadata": {},
   "outputs": [],
   "source": [
    "% setup environment\n",
    "% set path to equilibrium solver\n",
    "txt=pwd;\n",
    "n=length(txt);\n",
    "rootpath=txt(1:n-6);\n",
    "JEQUILIBpath=[rootpath,'JEQUILIB'];\n",
    "addpath(JEQUILIBpath);\n",
    "% clear data and number format\n",
    "clear; format short e\n",
    "\n",
    "% turn off warnings\n",
    "warning off"
   ]
  },
  {
   "cell_type": "code",
   "execution_count": 67,
   "id": "25c568d8-4945-440d-89a1-a85b32c1fbd2",
   "metadata": {},
   "outputs": [],
   "source": [
    "% input the constants and solution chemistry\n",
    "\n",
    "flag1=2; %flag1 for concentration based search vector (1) or for log based search vector (2).\n",
    "flag2=1; %flag2 for numerical derivatives (2) or analtyical derivatives (1)\n",
    "database=[]; \n",
    "flag3=0; % flag3 1 for show warnings. 0 no warnings\n",
    "flag4=0; %if=1 solve tableau one line at a time to get a good initial guess (no solids). really challenging probs only\n",
    "flag5=0; %if=1 use stored initial guess for including solids\n",
    "\n",
    "CuT=[10e-6]; pH=[7]; pe=20.75-pH; IS=0.01; %ionic strength"
   ]
  },
  {
   "cell_type": "code",
   "execution_count": 68,
   "id": "73891590-5b8d-4188-b784-0b3df3a3eb32",
   "metadata": {
    "tags": []
   },
   "outputs": [
    {
     "data": {
      "text/plain": [
       "Cu = 2.7579e-06\n"
      ]
     },
     "metadata": {},
     "output_type": "display_data"
    },
    {
     "data": {
      "text/plain": [
       "CuOH = 8.3217e-07\n"
      ]
     },
     "metadata": {},
     "output_type": "display_data"
    },
    {
     "data": {
      "text/plain": [
       "Cusolids = 6.4099e-06\n"
      ]
     },
     "metadata": {},
     "output_type": "display_data"
    },
    {
     "data": {
      "text/plain": [
       "MASSERR =          0\n"
      ]
     },
     "metadata": {},
     "output_type": "display_data"
    }
   ],
   "source": [
    "% run the model\n",
    "\n",
    "% make sure totals are in the same order as the Tableau!\n",
    "inorganicTOTALS=[CuT];\n",
    "inorganicTOTALS(inorganicTOTALS==0)=1e-16; % get rid of zero values, b/c div by zero error\n",
    "TOTALS=[inorganicTOTALS]; %TOTALS=inorganicTOTALS;\n",
    "\n",
    "[Cu,CuOH,Cusolids,MASSERR]=CuOHtableau(pH,pe,TOTALS',flag1,flag2,flag3,flag4,flag5,database,IS)"
   ]
  }
 ],
 "metadata": {
  "kernelspec": {
   "display_name": "Octave (xoctave)",
   "language": "Octave",
   "name": "xoctave"
  },
  "language_info": {
   "codemirror_mode": "octave",
   "file_extension": ".m",
   "mimetype": "text/x-octave",
   "name": "Octave",
   "nbconvert_exporter": "",
   "pygments_lexer": "octave",
   "version": "7.3.0"
  }
 },
 "nbformat": 4,
 "nbformat_minor": 5
}

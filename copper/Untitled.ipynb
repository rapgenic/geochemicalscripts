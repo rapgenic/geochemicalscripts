{
 "cells": [
  {
   "cell_type": "markdown",
   "id": "d2518006-8680-41cc-a904-e9a314dc3f09",
   "metadata": {},
   "source": [
    "#Copper hydroxide reactions from NIST database, corrected for ionic strength.\n",
    "\n",
    "for each reaction generate an interpolation plot to determine the \"measured\" value at the specified ionic strength"
   ]
  }
 ],
 "metadata": {
  "kernelspec": {
   "display_name": "Octave (xoctave)",
   "language": "Octave",
   "name": "xoctave"
  },
  "language_info": {
   "codemirror_mode": "octave",
   "file_extension": ".m",
   "mimetype": "text/x-octave",
   "name": "Octave",
   "nbconvert_exporter": "",
   "pygments_lexer": "octave",
   "version": "7.3.0"
  }
 },
 "nbformat": 4,
 "nbformat_minor": 5
}
